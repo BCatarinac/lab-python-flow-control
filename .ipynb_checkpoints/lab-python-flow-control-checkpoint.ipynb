{
 "cells": [
  {
   "cell_type": "markdown",
   "id": "d3bfc191-8885-42ee-b0a0-bbab867c6f9f",
   "metadata": {
    "tags": []
   },
   "source": [
    "# Lab | Flow Control"
   ]
  },
  {
   "cell_type": "markdown",
   "id": "3851fcd1-cf98-4653-9c89-e003b7ec9400",
   "metadata": {},
   "source": [
    "## Exercise: Managing Customer Orders Optimized\n",
    "\n",
    "In the last lab, you were starting an online store that sells various products. To ensure smooth operations, you developed a program that manages customer orders and inventory.\n",
    "\n",
    "You did so without using flow control. Let's go a step further and improve this code.\n",
    "\n",
    "Follow the steps below to complete the exercise:\n",
    "\n",
    "1. Look at your code from the lab data structures, and improve repeated code with loops.\n",
    "\n",
    "2. Instead of asking the user to input the name of three products that a customer wants to order, do the following:\n",
    "    \n",
    "    a. Prompt the user to enter the name of a product that a customer wants to order.\n",
    "    \n",
    "    b. Add the product name to the \"customer_orders\" set.\n",
    "    \n",
    "    c. Ask the user if they want to add another product (yes/no).\n",
    "    \n",
    "    d. Continue the loop until the user does not want to add another product.\n",
    "\n",
    "3. Instead of updating the inventory by subtracting 1 from the quantity of each product, only do it for  the products that were ordered (those in \"customer_orders\")."
   ]
  },
  {
   "cell_type": "code",
   "execution_count": 13,
   "id": "dbba8bd4",
   "metadata": {},
   "outputs": [
    {
     "name": "stdout",
     "output_type": "stream",
     "text": [
      "Enter the quantity of t-shirt available: 5\n",
      "Enter the quantity of mug available: 5\n",
      "Enter the quantity of hat available: 5\n",
      "Enter the quantity of book available: 5\n",
      "Enter the quantity of keychain available: 5\n",
      "Enter the name of the product the customer wants to order: mug\n",
      "Do you want to add another product? (yes/no): yes\n",
      "Enter the name of the product the customer wants to order: hat\n",
      "Do you want to add another product? (yes/no): no\n",
      "Customer Orders: {'hat', 'mug'}\n",
      "Order Statistics:\n",
      "Total Products Ordered: 2\n",
      "Percentage of Products Ordered: 40.00%\n",
      "Updated Inventory:\n",
      "t-shirt: 5\n",
      "mug: 4\n",
      "hat: 4\n",
      "book: 5\n",
      "keychain: 5\n"
     ]
    }
   ],
   "source": [
    "products = [\"t-shirt\", \"mug\", \"hat\", \"book\", \"keychain\"]\n",
    "\n",
    "inventory = {product: int(input(f\"Enter the quantity of {product} available: \")) for product in products}\n",
    "\n",
    "customer_orders = set()\n",
    "\n",
    "# Start a loop that continues until the user decides to stop adding products\n",
    "while True:\n",
    "    product_order = input(\"Enter the name of the product the customer wants to order: \")\n",
    "    if product_order in products:\n",
    "        customer_orders.add(product_order)\n",
    "        # Ask the user if they want to add another product\n",
    "        another_order = input(\"Do you want to add another product? (yes/no): \").lower()\n",
    "        if another_order != \"yes\":\n",
    "            break  # Exit the loop if the user does not want to add more products\n",
    "    else:\n",
    "        print(\"Product not available. Please choose another product.\")\n",
    "\n",
    "print(\"Customer Orders:\", customer_orders)\n",
    "\n",
    "total_products_ordered = len(customer_orders)\n",
    "percentage_of_products_ordered = (total_products_ordered / len(products)) * 100\n",
    "print(f\"Order Statistics:\\nTotal Products Ordered: {total_products_ordered}\\nPercentage of Products Ordered: {percentage_of_products_ordered:.2f}%\")\n",
    "\n",
    "for product in customer_orders:\n",
    "    inventory[product] -= 1\n",
    "\n",
    "print(\"Updated Inventory:\")\n",
    "for product, quantity in inventory.items():\n",
    "    print(f\"{product}: {quantity}\")"
   ]
  },
  {
   "cell_type": "code",
   "execution_count": 15,
   "id": "da4c96b4",
   "metadata": {},
   "outputs": [
    {
     "name": "stdout",
     "output_type": "stream",
     "text": [
      "Enter the quantity of t-shirt available: 5\n",
      "Enter the quantity of mug available: 5\n",
      "Enter the quantity of hat available: 5\n",
      "Enter the quantity of book available: 5\n",
      "Enter the quantity of keychain available: 5\n",
      "Enter the name of the product the customer wants to order: mug\n",
      "Do you want to add another product? (yes/no): yes\n",
      "Enter the name of the product the customer wants to order: hat\n",
      "Do you want to add another product? (yes/no): no\n",
      "\n",
      "Customer Orders: {'hat', 'mug'}\n",
      "\n",
      "Order Statistics:\n",
      "Total Products Ordered: 2\n",
      "Percentage of Products Ordered: 40.00%\n",
      "\n",
      "Updated Inventory for Ordered Products:\n",
      "hat: 4\n",
      "mug: 4\n"
     ]
    }
   ],
   "source": [
    "products = [\"t-shirt\", \"mug\", \"hat\", \"book\", \"keychain\"]\n",
    "\n",
    "inventory = {product: int(input(f\"Enter the quantity of {product} available: \")) for product in products}\n",
    "\n",
    "customer_orders = set()\n",
    "\n",
    "while True:\n",
    "    product_order = input(\"Enter the name of the product the customer wants to order: \")\n",
    "    if product_order in products:\n",
    "        if inventory[product_order] > 0:  \n",
    "            customer_orders.add(product_order)\n",
    "        else:\n",
    "            print(f\"Insufficient quantity for {product_order}\")\n",
    "        another_order = input(\"Do you want to add another product? (yes/no): \").lower()\n",
    "        if another_order != \"yes\":\n",
    "            break  \n",
    "    else:\n",
    "        print(\"Product not available. Please choose another product.\")\n",
    "\n",
    "print(\"\\nCustomer Orders:\", customer_orders)\n",
    "\n",
    "total_products_ordered = len(customer_orders)\n",
    "percentage_of_products_ordered = (total_products_ordered / len(products)) * 100\n",
    "print(f\"\\nOrder Statistics:\\nTotal Products Ordered: {total_products_ordered}\\nPercentage of Products Ordered: {percentage_of_products_ordered:.2f}%\\n\")\n",
    "\n",
    "for product in customer_orders:\n",
    "    inventory[product] -= 1 \n",
    "\n",
    "print(\"Updated Inventory for Ordered Products:\")\n",
    "for product in customer_orders:\n",
    "    print(f\"{product}: {inventory[product]}\")"
   ]
  },
  {
   "cell_type": "code",
   "execution_count": null,
   "id": "7b03e4ef",
   "metadata": {},
   "outputs": [],
   "source": []
  }
 ],
 "metadata": {
  "kernelspec": {
   "display_name": "Python 3 (ipykernel)",
   "language": "python",
   "name": "python3"
  },
  "language_info": {
   "codemirror_mode": {
    "name": "ipython",
    "version": 3
   },
   "file_extension": ".py",
   "mimetype": "text/x-python",
   "name": "python",
   "nbconvert_exporter": "python",
   "pygments_lexer": "ipython3",
   "version": "3.10.9"
  }
 },
 "nbformat": 4,
 "nbformat_minor": 5
}
